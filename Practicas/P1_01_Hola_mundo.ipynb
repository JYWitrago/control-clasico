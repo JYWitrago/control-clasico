{
 "cells": [
  {
   "cell_type": "markdown",
   "id": "c4688c39",
   "metadata": {},
   "source": [
    "# Práctica 1-02: Hola Mundo\n",
    "Este es mi primer notebook en VS Code para la materia de Control\n",
    "Clásico."
   ]
  },
  {
   "cell_type": "code",
   "execution_count": null,
   "id": "11ef61bd",
   "metadata": {},
   "outputs": [
    {
     "ename": "",
     "evalue": "",
     "output_type": "error",
     "traceback": [
      "\u001b[1;31mLa ejecución de celdas con '.venv (3.13.7) (Python 3.13.7)' requiere el paquete ipykernel.\n",
      "\u001b[1;31mInstale \"ipykernel\" en el entorno de Python. \n",
      "\u001b[1;31mComando: \"\"c:/Users/Madar/Documents/Cosas de Control de VS COde/control-clasico/.venv/Scripts/python.exe\" -m pip install ipykernel -U --force-reinstall\""
     ]
    }
   ],
   "source": [
    "print(\"Hola mundo\")"
   ]
  },
  {
   "cell_type": "code",
   "execution_count": null,
   "id": "77882f37",
   "metadata": {},
   "outputs": [],
   "source": []
  }
 ],
 "metadata": {
  "kernelspec": {
   "display_name": ".venv (3.13.7)",
   "language": "python",
   "name": "python3"
  },
  "language_info": {
   "codemirror_mode": {
    "name": "ipython",
    "version": 3
   },
   "file_extension": ".py",
   "mimetype": "text/x-python",
   "name": "python",
   "nbconvert_exporter": "python",
   "pygments_lexer": "ipython3",
   "version": "3.13.7"
  }
 },
 "nbformat": 4,
 "nbformat_minor": 5
}
